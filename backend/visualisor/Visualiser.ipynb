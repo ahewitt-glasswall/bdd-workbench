{
 "cells": [
  {
   "cell_type": "code",
   "execution_count": 15,
   "metadata": {},
   "outputs": [],
   "source": [
    "import os\n",
    "os.getcwd()\n",
    "content = open(r\"C:\\Users\\TomasPilvelis\\Documents\\GitHub\\GW-BDDWorkbench\\bdd\\bdd_example.bdd\").read()"
   ]
  },
  {
   "cell_type": "code",
   "execution_count": 16,
   "metadata": {
    "scrolled": true
   },
   "outputs": [
    {
     "data": {
      "text/html": [
       "\n",
       "        <iframe\n",
       "            width=\"500px\"\n",
       "            height=\"500px\"\n",
       "            src=\"this.html\"\n",
       "            frameborder=\"0\"\n",
       "            allowfullscreen\n",
       "        ></iframe>\n",
       "        "
      ],
      "text/plain": [
       "<IPython.lib.display.IFrame at 0x58badf0>"
      ]
     },
     "execution_count": 16,
     "metadata": {},
     "output_type": "execute_result"
    }
   ],
   "source": [
    "import bdd_parser\n",
    "from pyvis.network import Network\n",
    "event = content\n",
    "context = {}\n",
    "response = bdd_parser.lambda_handler(event, context)\n",
    "nodes = [item.get('id') for item in response['body']['nodes']]\n",
    "labels = [item.get('label') for item in response['body']['nodes']]\n",
    "edges = [item for item in response['body']['edges']]\n",
    "\n",
    "new_edges = []\n",
    "for edge in edges:\n",
    "    x = edge['from']\n",
    "    y = edge['to']\n",
    "    new_edges.append( (x,y) )\n",
    "\n",
    "#print(response)\n",
    "\n",
    "net = Network(notebook=True, width='500px', height='500px')\n",
    "net.add_nodes( nodes, label=labels)\n",
    "net.add_edges( new_edges )\n",
    "\n",
    "net.show(\"this.html\")"
   ]
  },
  {
   "cell_type": "code",
   "execution_count": null,
   "metadata": {},
   "outputs": [],
   "source": []
  },
  {
   "cell_type": "code",
   "execution_count": null,
   "metadata": {},
   "outputs": [],
   "source": []
  }
 ],
 "metadata": {
  "kernelspec": {
   "display_name": "Python 3",
   "language": "python",
   "name": "python3"
  },
  "language_info": {
   "codemirror_mode": {
    "name": "ipython",
    "version": 3
   },
   "file_extension": ".py",
   "mimetype": "text/x-python",
   "name": "python",
   "nbconvert_exporter": "python",
   "pygments_lexer": "ipython3",
   "version": "3.8.1"
  }
 },
 "nbformat": 4,
 "nbformat_minor": 4
}
